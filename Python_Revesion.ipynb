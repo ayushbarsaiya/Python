{
 "cells": [
  {
   "cell_type": "code",
   "execution_count": 3,
   "id": "6304232b",
   "metadata": {},
   "outputs": [
    {
     "name": "stdout",
     "output_type": "stream",
     "text": [
      "Hello, World!\n"
     ]
    }
   ],
   "source": [
    "\"\"\"\n",
    "This is a comment\n",
    "written in\n",
    "more than just one line\n",
    "\"\"\"\n",
    "print(\"Hello, World!\")"
   ]
  },
  {
   "cell_type": "code",
   "execution_count": 7,
   "id": "06cc3c46",
   "metadata": {},
   "outputs": [
    {
     "data": {
      "text/plain": [
       "int"
      ]
     },
     "execution_count": 7,
     "metadata": {},
     "output_type": "execute_result"
    }
   ],
   "source": [
    "a=3\n",
    "type(a)"
   ]
  },
  {
   "cell_type": "code",
   "execution_count": 8,
   "id": "842f1656",
   "metadata": {},
   "outputs": [
    {
     "data": {
      "text/plain": [
       "int"
      ]
     },
     "execution_count": 8,
     "metadata": {},
     "output_type": "execute_result"
    }
   ],
   "source": [
    "x=1\n",
    "type(x)"
   ]
  },
  {
   "cell_type": "code",
   "execution_count": 10,
   "id": "74bcf6aa",
   "metadata": {},
   "outputs": [
    {
     "data": {
      "text/plain": [
       "float"
      ]
     },
     "execution_count": 10,
     "metadata": {},
     "output_type": "execute_result"
    }
   ],
   "source": [
    "x=1.0000\n",
    "type(x)"
   ]
  },
  {
   "cell_type": "code",
   "execution_count": 11,
   "id": "163df48d",
   "metadata": {},
   "outputs": [
    {
     "data": {
      "text/plain": [
       "int"
      ]
     },
     "execution_count": 11,
     "metadata": {},
     "output_type": "execute_result"
    }
   ],
   "source": [
    "x=-1\n",
    "type(x)"
   ]
  },
  {
   "cell_type": "code",
   "execution_count": 19,
   "id": "ec22e043",
   "metadata": {},
   "outputs": [
    {
     "name": "stdout",
     "output_type": "stream",
     "text": [
      "1\n"
     ]
    }
   ],
   "source": [
    "import random\n",
    "print(random.randrange(1, 4))\n"
   ]
  },
  {
   "cell_type": "code",
   "execution_count": 27,
   "id": "0d163a04",
   "metadata": {},
   "outputs": [
    {
     "name": "stdout",
     "output_type": "stream",
     "text": [
      "Lorem ipsum dolor sit amet,\n",
      "consectetur adipiscing elit,\n",
      "sed do eiusmod tempor incididunt\n",
      "ut labore et dolore magna aliqua.\n"
     ]
    }
   ],
   "source": [
    "a='''Lorem ipsum dolor sit amet,\n",
    "consectetur adipiscing elit,\n",
    "sed do eiusmod tempor incididunt\n",
    "ut labore et dolore magna aliqua.'''\n",
    "print(a)"
   ]
  },
  {
   "cell_type": "code",
   "execution_count": 31,
   "id": "993aeb41",
   "metadata": {},
   "outputs": [
    {
     "data": {
      "text/plain": [
       "True"
      ]
     },
     "execution_count": 31,
     "metadata": {},
     "output_type": "execute_result"
    }
   ],
   "source": [
    "txt = \"The best things in life are free!\"\n",
    "\"expensive\" not in txt"
   ]
  },
  {
   "cell_type": "code",
   "execution_count": 36,
   "id": "92484348",
   "metadata": {},
   "outputs": [
    {
     "data": {
      "text/plain": [
       "'el,ca'"
      ]
     },
     "execution_count": 36,
     "metadata": {},
     "output_type": "execute_result"
    }
   ],
   "source": [
    "string = \"hello, chat today are you ready for learning intresting topic\"\n",
    "string[1:10:2]"
   ]
  },
  {
   "cell_type": "code",
   "execution_count": 42,
   "id": "310fb41a",
   "metadata": {},
   "outputs": [
    {
     "name": "stdout",
     "output_type": "stream",
     "text": [
      "orl\n"
     ]
    }
   ],
   "source": [
    "b = \" Hello, World!\"\n",
    "print(b[-5:-2])"
   ]
  },
  {
   "cell_type": "code",
   "execution_count": 43,
   "id": "4ea00739",
   "metadata": {},
   "outputs": [
    {
     "data": {
      "text/plain": [
       "' HELLO, WORLD!'"
      ]
     },
     "execution_count": 43,
     "metadata": {},
     "output_type": "execute_result"
    }
   ],
   "source": [
    "b.upper()"
   ]
  },
  {
   "cell_type": "code",
   "execution_count": 44,
   "id": "03a73344",
   "metadata": {},
   "outputs": [
    {
     "data": {
      "text/plain": [
       "' hello, world!'"
      ]
     },
     "execution_count": 44,
     "metadata": {},
     "output_type": "execute_result"
    }
   ],
   "source": [
    "b.lower()"
   ]
  },
  {
   "cell_type": "code",
   "execution_count": 47,
   "id": "ada42ce4",
   "metadata": {},
   "outputs": [
    {
     "data": {
      "text/plain": [
       "'Hello, World!'"
      ]
     },
     "execution_count": 47,
     "metadata": {},
     "output_type": "execute_result"
    }
   ],
   "source": [
    "# The strip() method removes any whitespace from the beginning or the end:\n",
    "b.strip()"
   ]
  },
  {
   "cell_type": "code",
   "execution_count": 48,
   "id": "9fef2198",
   "metadata": {},
   "outputs": [
    {
     "data": {
      "text/plain": [
       "'hello, chat today are you ready for learning intresting topic'"
      ]
     },
     "execution_count": 48,
     "metadata": {},
     "output_type": "execute_result"
    }
   ],
   "source": [
    "string"
   ]
  },
  {
   "cell_type": "code",
   "execution_count": 49,
   "id": "70d5a735",
   "metadata": {},
   "outputs": [
    {
     "data": {
      "text/plain": [
       "'hello, chyt todyy yre you reydy for leyrning intresting topic'"
      ]
     },
     "execution_count": 49,
     "metadata": {},
     "output_type": "execute_result"
    }
   ],
   "source": [
    "string.replace(\"a\",\"y\")"
   ]
  },
  {
   "cell_type": "code",
   "execution_count": 51,
   "id": "302cf500",
   "metadata": {},
   "outputs": [
    {
     "data": {
      "text/plain": [
       "['hello,',\n",
       " 'chat',\n",
       " 'today',\n",
       " 'are',\n",
       " 'you',\n",
       " 'ready',\n",
       " 'for',\n",
       " 'learning',\n",
       " 'intresting',\n",
       " 'topic']"
      ]
     },
     "execution_count": 51,
     "metadata": {},
     "output_type": "execute_result"
    }
   ],
   "source": [
    "string.split(\" \")"
   ]
  },
  {
   "cell_type": "code",
   "execution_count": 53,
   "id": "012b623a",
   "metadata": {},
   "outputs": [
    {
     "data": {
      "text/plain": [
       "['hello', ' chat today are you ready for learning intresting topic']"
      ]
     },
     "execution_count": 53,
     "metadata": {},
     "output_type": "execute_result"
    }
   ],
   "source": [
    "string.split(\",\")"
   ]
  },
  {
   "cell_type": "code",
   "execution_count": 55,
   "id": "9e50ff49",
   "metadata": {},
   "outputs": [
    {
     "data": {
      "text/plain": [
       "'poi uhy'"
      ]
     },
     "execution_count": 55,
     "metadata": {},
     "output_type": "execute_result"
    }
   ],
   "source": [
    "a=\"poi\"\n",
    "b=\"uhy\"\n",
    "a+\" \"+b"
   ]
  },
  {
   "cell_type": "code",
   "execution_count": 61,
   "id": "5dcc28c1",
   "metadata": {},
   "outputs": [],
   "source": [
    "a=34\n",
    "b=\"hello chat the num is {}\""
   ]
  },
  {
   "cell_type": "code",
   "execution_count": 62,
   "id": "3d25740e",
   "metadata": {},
   "outputs": [
    {
     "data": {
      "text/plain": [
       "'hello chat the num is 34'"
      ]
     },
     "execution_count": 62,
     "metadata": {},
     "output_type": "execute_result"
    }
   ],
   "source": [
    "b.format(a)"
   ]
  },
  {
   "cell_type": "code",
   "execution_count": 63,
   "id": "e99084f3",
   "metadata": {},
   "outputs": [
    {
     "data": {
      "text/plain": [
       "'hello 24 i take 13 and you 45'"
      ]
     },
     "execution_count": 63,
     "metadata": {},
     "output_type": "execute_result"
    }
   ],
   "source": [
    "q=24\n",
    "a=13\n",
    "z=45\n",
    "n=\"hello {} i take {} and you {}\"\n",
    "n.format(q,a,z)"
   ]
  },
  {
   "cell_type": "code",
   "execution_count": 67,
   "id": "ee634883",
   "metadata": {},
   "outputs": [
    {
     "data": {
      "text/plain": [
       "'We are the so-called \"Vikings\" from the north.'"
      ]
     },
     "execution_count": 67,
     "metadata": {},
     "output_type": "execute_result"
    }
   ],
   "source": [
    "\"We are the so-called \\\"Vikings\\\" from the north.\""
   ]
  },
  {
   "cell_type": "code",
   "execution_count": 84,
   "id": "6b25ec5a",
   "metadata": {},
   "outputs": [],
   "source": [
    "x=\"we are the so-called \\Vikings from the north.\""
   ]
  },
  {
   "cell_type": "code",
   "execution_count": 85,
   "id": "c3674555",
   "metadata": {},
   "outputs": [
    {
     "data": {
      "text/plain": [
       "3"
      ]
     },
     "execution_count": 85,
     "metadata": {},
     "output_type": "execute_result"
    }
   ],
   "source": [
    "x.count(\"o\")"
   ]
  },
  {
   "cell_type": "code",
   "execution_count": 86,
   "id": "530d341c",
   "metadata": {},
   "outputs": [
    {
     "data": {
      "text/plain": [
       "'We are the so-called \\\\vikings from the north.'"
      ]
     },
     "execution_count": 86,
     "metadata": {},
     "output_type": "execute_result"
    }
   ],
   "source": [
    "x.capitalize()"
   ]
  },
  {
   "cell_type": "code",
   "execution_count": 87,
   "id": "38b8e023",
   "metadata": {},
   "outputs": [
    {
     "data": {
      "text/plain": [
       "b'we are the so-called \\\\Vikings from the north.'"
      ]
     },
     "execution_count": 87,
     "metadata": {},
     "output_type": "execute_result"
    }
   ],
   "source": [
    "x.encode()"
   ]
  },
  {
   "cell_type": "code",
   "execution_count": 89,
   "id": "dd18e226",
   "metadata": {},
   "outputs": [
    {
     "data": {
      "text/plain": [
       "45"
      ]
     },
     "execution_count": 89,
     "metadata": {},
     "output_type": "execute_result"
    }
   ],
   "source": [
    "len(x)"
   ]
  },
  {
   "cell_type": "code",
   "execution_count": 94,
   "id": "cd732002",
   "metadata": {},
   "outputs": [
    {
     "name": "stdout",
     "output_type": "stream",
     "text": [
      "False\n",
      "False\n"
     ]
    }
   ],
   "source": [
    "print(bool(\"\"))\n",
    "print(bool(0))"
   ]
  },
  {
   "cell_type": "code",
   "execution_count": 93,
   "id": "418af1be",
   "metadata": {},
   "outputs": [
    {
     "name": "stdout",
     "output_type": "stream",
     "text": [
      "True\n",
      "True\n"
     ]
    }
   ],
   "source": [
    "print(bool(\"xcd\"))\n",
    "print(bool(45))"
   ]
  },
  {
   "cell_type": "code",
   "execution_count": 106,
   "id": "fe725499",
   "metadata": {},
   "outputs": [
    {
     "name": "stdout",
     "output_type": "stream",
     "text": [
      "['apple', 'banana', 'cherry']\n"
     ]
    }
   ],
   "source": [
    "thislist = list((\"apple\", \"banana\", \"cherry\")) # note the double round-brackets\n",
    "print(thislist)"
   ]
  },
  {
   "cell_type": "code",
   "execution_count": 107,
   "id": "1871d5b6",
   "metadata": {},
   "outputs": [
    {
     "data": {
      "text/plain": [
       "list"
      ]
     },
     "execution_count": 107,
     "metadata": {},
     "output_type": "execute_result"
    }
   ],
   "source": [
    "type(thislist)"
   ]
  },
  {
   "cell_type": "code",
   "execution_count": 109,
   "id": "5ce26020",
   "metadata": {},
   "outputs": [
    {
     "name": "stdout",
     "output_type": "stream",
     "text": [
      "['apple', 'banana', 'cherry', 'kiwi', 'orange']\n"
     ]
    }
   ],
   "source": [
    "thislist = [\"apple\", \"banana\", \"cherry\"]\n",
    "thistuple = (\"kiwi\", \"orange\")\n",
    "thislist.extend(thistuple)\n",
    "print(thislist)"
   ]
  },
  {
   "cell_type": "code",
   "execution_count": 110,
   "id": "540e95cd",
   "metadata": {},
   "outputs": [
    {
     "ename": "AttributeError",
     "evalue": "'tuple' object has no attribute 'extend'",
     "output_type": "error",
     "traceback": [
      "\u001b[1;31m---------------------------------------------------------------------------\u001b[0m",
      "\u001b[1;31mAttributeError\u001b[0m                            Traceback (most recent call last)",
      "Input \u001b[1;32mIn [110]\u001b[0m, in \u001b[0;36m<cell line: 3>\u001b[1;34m()\u001b[0m\n\u001b[0;32m      1\u001b[0m thislist \u001b[38;5;241m=\u001b[39m [\u001b[38;5;124m\"\u001b[39m\u001b[38;5;124mapple\u001b[39m\u001b[38;5;124m\"\u001b[39m, \u001b[38;5;124m\"\u001b[39m\u001b[38;5;124mbanana\u001b[39m\u001b[38;5;124m\"\u001b[39m, \u001b[38;5;124m\"\u001b[39m\u001b[38;5;124mcherry\u001b[39m\u001b[38;5;124m\"\u001b[39m]\n\u001b[0;32m      2\u001b[0m thistuple \u001b[38;5;241m=\u001b[39m (\u001b[38;5;124m\"\u001b[39m\u001b[38;5;124mkiwi\u001b[39m\u001b[38;5;124m\"\u001b[39m, \u001b[38;5;124m\"\u001b[39m\u001b[38;5;124morange\u001b[39m\u001b[38;5;124m\"\u001b[39m)\n\u001b[1;32m----> 3\u001b[0m \u001b[43mthistuple\u001b[49m\u001b[38;5;241;43m.\u001b[39;49m\u001b[43mextend\u001b[49m(thislist)\n\u001b[0;32m      4\u001b[0m \u001b[38;5;28mprint\u001b[39m(thislist)\n",
      "\u001b[1;31mAttributeError\u001b[0m: 'tuple' object has no attribute 'extend'"
     ]
    }
   ],
   "source": [
    "thislist = [\"apple\", \"banana\", \"cherry\"]\n",
    "thistuple = (\"kiwi\", \"orange\")\n",
    "thistuple.extend(thislist)\n",
    "print(thislist)"
   ]
  },
  {
   "cell_type": "code",
   "execution_count": 113,
   "id": "c1938eb5",
   "metadata": {},
   "outputs": [
    {
     "name": "stdout",
     "output_type": "stream",
     "text": [
      "1\n",
      "3\n",
      "9\n"
     ]
    }
   ],
   "source": [
    "a=[\"1\",\"3\",\"9\"]\n",
    "for i in a:\n",
    "    print(i)"
   ]
  },
  {
   "cell_type": "code",
   "execution_count": 115,
   "id": "57fde878",
   "metadata": {},
   "outputs": [
    {
     "name": "stdout",
     "output_type": "stream",
     "text": [
      "1\n",
      "3\n",
      "9\n"
     ]
    }
   ],
   "source": [
    "a=[\"1\",\"3\",\"9\"]\n",
    "for i in range(len(a)):\n",
    "    print(a[i])"
   ]
  },
  {
   "cell_type": "code",
   "execution_count": 116,
   "id": "09543c1e",
   "metadata": {},
   "outputs": [
    {
     "name": "stdout",
     "output_type": "stream",
     "text": [
      "apple\n",
      "banana\n",
      "cherry\n"
     ]
    }
   ],
   "source": [
    "thislist = [\"apple\", \"banana\", \"cherry\"]\n",
    "i = 0\n",
    "while i < len(thislist):\n",
    "  print(thislist[i])\n",
    "  i = i + 1"
   ]
  },
  {
   "cell_type": "code",
   "execution_count": 126,
   "id": "961fb446",
   "metadata": {},
   "outputs": [
    {
     "name": "stdout",
     "output_type": "stream",
     "text": [
      "['apple', 'banana', 'mango']\n"
     ]
    }
   ],
   "source": [
    "# list comprehension-------create new list with the help of existing list\n",
    "\n",
    "fruits = [\"apple\", \"banana\", \"cherry\", \"kiwi\", \"mango\"]\n",
    "newlist = []\n",
    "\n",
    "for x in fruits:\n",
    "  if \"a\" in x:\n",
    "    newlist.append(x)\n",
    "\n",
    "print(newlist)"
   ]
  },
  {
   "cell_type": "code",
   "execution_count": 130,
   "id": "58c87242",
   "metadata": {},
   "outputs": [
    {
     "data": {
      "text/plain": [
       "[1, 2, 2, 3, 4, 5, 6, 7, 9]"
      ]
     },
     "execution_count": 130,
     "metadata": {},
     "output_type": "execute_result"
    }
   ],
   "source": [
    "a=[3,2,4,6,7,9,5,2,1]\n",
    "a.sort()\n",
    "a"
   ]
  },
  {
   "cell_type": "code",
   "execution_count": 131,
   "id": "8f5256d6",
   "metadata": {},
   "outputs": [
    {
     "data": {
      "text/plain": [
       "['banana', 'kiwi', 'mango', 'papaya']"
      ]
     },
     "execution_count": 131,
     "metadata": {},
     "output_type": "execute_result"
    }
   ],
   "source": [
    "a=[\"papaya\",\"mango\",\"banana\",\"kiwi\"]\n",
    "a.sort()\n",
    "a"
   ]
  },
  {
   "cell_type": "code",
   "execution_count": 132,
   "id": "1f2751a7",
   "metadata": {},
   "outputs": [
    {
     "name": "stdout",
     "output_type": "stream",
     "text": [
      "[50, 65, 23, 82, 100]\n"
     ]
    }
   ],
   "source": [
    "def myfunc(n):\n",
    "  return abs(n - 50)\n",
    "\n",
    "thislist = [100, 50, 65, 82, 23]\n",
    "thislist.sort(key = myfunc)\n",
    "print(thislist)"
   ]
  },
  {
   "cell_type": "code",
   "execution_count": 133,
   "id": "c7fa7be3",
   "metadata": {},
   "outputs": [
    {
     "name": "stdout",
     "output_type": "stream",
     "text": [
      "['apple', 'banana', 'cherry']\n"
     ]
    }
   ],
   "source": [
    "thislist = [\"apple\", \"banana\", \"cherry\"]\n",
    "mylist = thislist.copy()\n",
    "print(mylist)"
   ]
  },
  {
   "cell_type": "code",
   "execution_count": 134,
   "id": "9fff9a6c",
   "metadata": {},
   "outputs": [
    {
     "name": "stdout",
     "output_type": "stream",
     "text": [
      "['apple', 'banana', 'cherry']\n"
     ]
    }
   ],
   "source": [
    "thislist = [\"apple\", \"banana\", \"cherry\"]\n",
    "mylist = thislist\n",
    "print(mylist)"
   ]
  },
  {
   "cell_type": "code",
   "execution_count": 135,
   "id": "45044c22",
   "metadata": {},
   "outputs": [],
   "source": [
    "lst1=[\"a\",\"b\",\"c\"]\n",
    "lst2=[1,2,3]\n",
    "lst=lst1+lst2"
   ]
  },
  {
   "cell_type": "code",
   "execution_count": 136,
   "id": "b847b1dc",
   "metadata": {},
   "outputs": [
    {
     "data": {
      "text/plain": [
       "['a', 'b', 'c', 1, 2, 3]"
      ]
     },
     "execution_count": 136,
     "metadata": {},
     "output_type": "execute_result"
    }
   ],
   "source": [
    "lst"
   ]
  },
  {
   "cell_type": "code",
   "execution_count": 144,
   "id": "7f7bfb95",
   "metadata": {},
   "outputs": [
    {
     "data": {
      "text/plain": [
       "['a', 'b', 'c', 1, 2, 3]"
      ]
     },
     "execution_count": 144,
     "metadata": {},
     "output_type": "execute_result"
    }
   ],
   "source": [
    "lst1=[\"a\",\"b\",\"c\"]\n",
    "lst2=[1,2,3]\n",
    "for x in lst2:\n",
    "    lst1.append(x)\n",
    "lst1"
   ]
  },
  {
   "cell_type": "code",
   "execution_count": 139,
   "id": "a7b1b161",
   "metadata": {},
   "outputs": [
    {
     "name": "stdout",
     "output_type": "stream",
     "text": [
      "None\n"
     ]
    }
   ],
   "source": [
    "print(lst3)"
   ]
  },
  {
   "cell_type": "code",
   "execution_count": 145,
   "id": "abf1221a",
   "metadata": {},
   "outputs": [],
   "source": [
    "lst1.extend(lst2)"
   ]
  },
  {
   "cell_type": "code",
   "execution_count": 146,
   "id": "52e44621",
   "metadata": {},
   "outputs": [
    {
     "data": {
      "text/plain": [
       "['a', 'b', 'c', 1, 2, 3, 1, 2, 3]"
      ]
     },
     "execution_count": 146,
     "metadata": {},
     "output_type": "execute_result"
    }
   ],
   "source": [
    "lst1"
   ]
  },
  {
   "cell_type": "code",
   "execution_count": 150,
   "id": "2da14573",
   "metadata": {},
   "outputs": [
    {
     "data": {
      "text/plain": [
       "(23, 34, 56)"
      ]
     },
     "execution_count": 150,
     "metadata": {},
     "output_type": "execute_result"
    }
   ],
   "source": [
    "tup=(23,34,56,12)\n",
    "tup[:3]"
   ]
  },
  {
   "cell_type": "code",
   "execution_count": 151,
   "id": "5ed0c48f",
   "metadata": {},
   "outputs": [],
   "source": [
    "# duplicacy allowed in tuple\n",
    "tup1=(\"Radha\",\"Raghav\",\"Madhav\",\"Bhumi\",11,90,78,\"Madhav\",12,12,11)"
   ]
  },
  {
   "cell_type": "code",
   "execution_count": 169,
   "id": "2dad6dc2",
   "metadata": {},
   "outputs": [
    {
     "data": {
      "text/plain": [
       "(12, 12, 11)"
      ]
     },
     "execution_count": 169,
     "metadata": {},
     "output_type": "execute_result"
    }
   ],
   "source": [
    "# tuple has order\n",
    "tup1[8:]"
   ]
  },
  {
   "cell_type": "code",
   "execution_count": 168,
   "id": "4bed63b3",
   "metadata": {},
   "outputs": [
    {
     "ename": "TypeError",
     "evalue": "'tuple' object does not support item assignment",
     "output_type": "error",
     "traceback": [
      "\u001b[1;31m---------------------------------------------------------------------------\u001b[0m",
      "\u001b[1;31mTypeError\u001b[0m                                 Traceback (most recent call last)",
      "Input \u001b[1;32mIn [168]\u001b[0m, in \u001b[0;36m<cell line: 2>\u001b[1;34m()\u001b[0m\n\u001b[0;32m      1\u001b[0m \u001b[38;5;66;03m# tuple is not changeble\u001b[39;00m\n\u001b[1;32m----> 2\u001b[0m tup[\u001b[38;5;241m0\u001b[39m]\u001b[38;5;241m=\u001b[39m\u001b[38;5;241m9\u001b[39m\n",
      "\u001b[1;31mTypeError\u001b[0m: 'tuple' object does not support item assignment"
     ]
    }
   ],
   "source": [
    "# tuple is not changeble\n",
    "tup[0]=9"
   ]
  },
  {
   "cell_type": "code",
   "execution_count": 164,
   "id": "c4e57e0d",
   "metadata": {},
   "outputs": [],
   "source": [
    "list1=[\"Radha\",\"Raghav\",\"Madhav\",\"Bhumi\",11,90,78,\"Madhav\",12,12,11]"
   ]
  },
  {
   "cell_type": "code",
   "execution_count": 165,
   "id": "f184aa8e",
   "metadata": {},
   "outputs": [
    {
     "data": {
      "text/plain": [
       "list"
      ]
     },
     "execution_count": 165,
     "metadata": {},
     "output_type": "execute_result"
    }
   ],
   "source": [
    "type(list1)"
   ]
  },
  {
   "cell_type": "code",
   "execution_count": 166,
   "id": "3893fa80",
   "metadata": {},
   "outputs": [],
   "source": [
    "list1[0]=9"
   ]
  },
  {
   "cell_type": "code",
   "execution_count": 167,
   "id": "9c126a06",
   "metadata": {},
   "outputs": [
    {
     "data": {
      "text/plain": [
       "[9, 'Raghav', 'Madhav', 'Bhumi', 11, 90, 78, 'Madhav', 12, 12, 11]"
      ]
     },
     "execution_count": 167,
     "metadata": {},
     "output_type": "execute_result"
    }
   ],
   "source": [
    "list1"
   ]
  },
  {
   "cell_type": "code",
   "execution_count": 172,
   "id": "13b09255",
   "metadata": {},
   "outputs": [
    {
     "data": {
      "text/plain": [
       "2"
      ]
     },
     "execution_count": 172,
     "metadata": {},
     "output_type": "execute_result"
    }
   ],
   "source": [
    "tup1.count(12)"
   ]
  },
  {
   "cell_type": "code",
   "execution_count": 174,
   "id": "c5685478",
   "metadata": {},
   "outputs": [
    {
     "data": {
      "text/plain": [
       "2"
      ]
     },
     "execution_count": 174,
     "metadata": {},
     "output_type": "execute_result"
    }
   ],
   "source": [
    "tup1.index(\"Madhav\")"
   ]
  },
  {
   "cell_type": "code",
   "execution_count": 181,
   "id": "c45fb8ad",
   "metadata": {},
   "outputs": [
    {
     "name": "stdout",
     "output_type": "stream",
     "text": [
      "('Radha', 'Ayush', 'Madhav', 'Bhumi', 11, 90, 78, 'Madhav', 12, 12, 11)\n",
      "['Radha', 'Ayush', 'Madhav', 'Bhumi', 11, 90, 78, 'Madhav', 12, 12, 11]\n",
      "('Radha', 'Ayush', 'Madhav', 'Bhumi', 11, 90, 78, 'Madhav', 12, 12, 11)\n",
      "<class 'tuple'>\n"
     ]
    }
   ],
   "source": [
    "print(tup1)\n",
    "tup2=list(tup1)\n",
    "tup2[1]=\"Ayush\"\n",
    "print(tup2)\n",
    "tup1=tuple(tup2)\n",
    "print(tup1)\n",
    "print(type(tup1))"
   ]
  },
  {
   "cell_type": "code",
   "execution_count": 188,
   "id": "5769b78a",
   "metadata": {},
   "outputs": [
    {
     "name": "stdout",
     "output_type": "stream",
     "text": [
      "<class 'tuple'>\n",
      "<class 'int'>\n",
      "<class 'tuple'>\n"
     ]
    }
   ],
   "source": [
    "a=()\n",
    "print(type(a))\n",
    "b=(2)\n",
    "print(type(b))\n",
    "c=(2,)\n",
    "print(type(c))"
   ]
  },
  {
   "cell_type": "code",
   "execution_count": 191,
   "id": "49057a2c",
   "metadata": {},
   "outputs": [],
   "source": [
    "set1={2,2,3,4,45,34,3,4}"
   ]
  },
  {
   "cell_type": "code",
   "execution_count": 193,
   "id": "f65009bd",
   "metadata": {},
   "outputs": [
    {
     "data": {
      "text/plain": [
       "{2, 3, 4, 34, 45}"
      ]
     },
     "execution_count": 193,
     "metadata": {},
     "output_type": "execute_result"
    }
   ],
   "source": [
    "# duplicacy not allowed\n",
    "set1"
   ]
  },
  {
   "cell_type": "code",
   "execution_count": 197,
   "id": "d421f464",
   "metadata": {},
   "outputs": [
    {
     "ename": "TypeError",
     "evalue": "'set' object is not subscriptable",
     "output_type": "error",
     "traceback": [
      "\u001b[1;31m---------------------------------------------------------------------------\u001b[0m",
      "\u001b[1;31mTypeError\u001b[0m                                 Traceback (most recent call last)",
      "Input \u001b[1;32mIn [197]\u001b[0m, in \u001b[0;36m<cell line: 2>\u001b[1;34m()\u001b[0m\n\u001b[0;32m      1\u001b[0m \u001b[38;5;66;03m# unordered----------not indexing\u001b[39;00m\n\u001b[1;32m----> 2\u001b[0m \u001b[43mset1\u001b[49m\u001b[43m[\u001b[49m\u001b[43m:\u001b[49m\u001b[43m]\u001b[49m\n",
      "\u001b[1;31mTypeError\u001b[0m: 'set' object is not subscriptable"
     ]
    }
   ],
   "source": [
    "# unordered----------not indexing\n",
    "set1[:]"
   ]
  },
  {
   "cell_type": "code",
   "execution_count": 200,
   "id": "54b2ab22",
   "metadata": {},
   "outputs": [
    {
     "ename": "TypeError",
     "evalue": "'set' object does not support item assignment",
     "output_type": "error",
     "traceback": [
      "\u001b[1;31m---------------------------------------------------------------------------\u001b[0m",
      "\u001b[1;31mTypeError\u001b[0m                                 Traceback (most recent call last)",
      "Input \u001b[1;32mIn [200]\u001b[0m, in \u001b[0;36m<cell line: 2>\u001b[1;34m()\u001b[0m\n\u001b[0;32m      1\u001b[0m \u001b[38;5;66;03m# unchangeble\u001b[39;00m\n\u001b[1;32m----> 2\u001b[0m set1[\u001b[38;5;241m1\u001b[39m]\u001b[38;5;241m=\u001b[39m\u001b[38;5;241m3\u001b[39m\n",
      "\u001b[1;31mTypeError\u001b[0m: 'set' object does not support item assignment"
     ]
    }
   ],
   "source": [
    "# unchangeble\n",
    "set1[1]=3"
   ]
  },
  {
   "cell_type": "code",
   "execution_count": 201,
   "id": "3e3b070a",
   "metadata": {},
   "outputs": [],
   "source": [
    "set1.add(90)"
   ]
  },
  {
   "cell_type": "code",
   "execution_count": 202,
   "id": "3d45b2c0",
   "metadata": {},
   "outputs": [
    {
     "data": {
      "text/plain": [
       "{2, 3, 4, 34, 45, 90}"
      ]
     },
     "execution_count": 202,
     "metadata": {},
     "output_type": "execute_result"
    }
   ],
   "source": [
    "set1"
   ]
  },
  {
   "cell_type": "code",
   "execution_count": 203,
   "id": "0ccac4d9",
   "metadata": {},
   "outputs": [],
   "source": [
    "set2={\"Ram\",\"Shaym\",\"Jacks\",\"Jarvis\"}"
   ]
  },
  {
   "cell_type": "code",
   "execution_count": 204,
   "id": "e9782f75",
   "metadata": {},
   "outputs": [],
   "source": [
    "set1.update(set2)"
   ]
  },
  {
   "cell_type": "code",
   "execution_count": 205,
   "id": "16d65d24",
   "metadata": {},
   "outputs": [
    {
     "data": {
      "text/plain": [
       "{2, 3, 34, 4, 45, 90, 'Jacks', 'Jarvis', 'Ram', 'Shaym'}"
      ]
     },
     "execution_count": 205,
     "metadata": {},
     "output_type": "execute_result"
    }
   ],
   "source": [
    "set1"
   ]
  },
  {
   "cell_type": "code",
   "execution_count": 207,
   "id": "cca16f59",
   "metadata": {},
   "outputs": [],
   "source": [
    "set1.clear()"
   ]
  },
  {
   "cell_type": "code",
   "execution_count": 208,
   "id": "0cafc7bb",
   "metadata": {},
   "outputs": [
    {
     "data": {
      "text/plain": [
       "set()"
      ]
     },
     "execution_count": 208,
     "metadata": {},
     "output_type": "execute_result"
    }
   ],
   "source": [
    "set1"
   ]
  },
  {
   "cell_type": "code",
   "execution_count": 212,
   "id": "7d101de2",
   "metadata": {},
   "outputs": [],
   "source": [
    "set2.remove(\"Jarvis\")\n"
   ]
  },
  {
   "cell_type": "code",
   "execution_count": 213,
   "id": "0f4ac8e9",
   "metadata": {},
   "outputs": [
    {
     "data": {
      "text/plain": [
       "{'Jacks', 'Ram', 'Shaym'}"
      ]
     },
     "execution_count": 213,
     "metadata": {},
     "output_type": "execute_result"
    }
   ],
   "source": [
    "set2"
   ]
  },
  {
   "cell_type": "code",
   "execution_count": 218,
   "id": "b1ffa8dc",
   "metadata": {},
   "outputs": [],
   "source": [
    "set3={\"r\",\"l\",\"k\",\"Ram\"}"
   ]
  },
  {
   "cell_type": "code",
   "execution_count": 219,
   "id": "209fca7f",
   "metadata": {},
   "outputs": [
    {
     "data": {
      "text/plain": [
       "{'Jacks', 'Ram', 'Shaym', 'k', 'l', 'r'}"
      ]
     },
     "execution_count": 219,
     "metadata": {},
     "output_type": "execute_result"
    }
   ],
   "source": [
    "set2.union(set3)"
   ]
  },
  {
   "cell_type": "code",
   "execution_count": 220,
   "id": "405b41de",
   "metadata": {},
   "outputs": [
    {
     "data": {
      "text/plain": [
       "{'Ram'}"
      ]
     },
     "execution_count": 220,
     "metadata": {},
     "output_type": "execute_result"
    }
   ],
   "source": [
    "set2.intersection(set3)"
   ]
  },
  {
   "cell_type": "code",
   "execution_count": 221,
   "id": "65ee3d12",
   "metadata": {},
   "outputs": [],
   "source": [
    "set2.intersection_update(set3)"
   ]
  },
  {
   "cell_type": "code",
   "execution_count": 222,
   "id": "d89a97ab",
   "metadata": {},
   "outputs": [
    {
     "data": {
      "text/plain": [
       "{'Ram'}"
      ]
     },
     "execution_count": 222,
     "metadata": {},
     "output_type": "execute_result"
    }
   ],
   "source": [
    "set2"
   ]
  },
  {
   "cell_type": "code",
   "execution_count": 224,
   "id": "481d26b3",
   "metadata": {},
   "outputs": [
    {
     "data": {
      "text/plain": [
       "{34, 78, 'K', 'Y'}"
      ]
     },
     "execution_count": 224,
     "metadata": {},
     "output_type": "execute_result"
    }
   ],
   "source": [
    "set_a={34,56,78,\"Y\",\"K\",\"P\"}\n",
    "set_b={56,\"P\",\"R\",\"M\",\"N\"}\n",
    "set_a.difference(set_b)"
   ]
  },
  {
   "cell_type": "code",
   "execution_count": 225,
   "id": "d6c24f81",
   "metadata": {},
   "outputs": [],
   "source": [
    "set_a.difference_update(set_b)"
   ]
  },
  {
   "cell_type": "code",
   "execution_count": 226,
   "id": "5958d788",
   "metadata": {},
   "outputs": [
    {
     "data": {
      "text/plain": [
       "{34, 78, 'K', 'Y'}"
      ]
     },
     "execution_count": 226,
     "metadata": {},
     "output_type": "execute_result"
    }
   ],
   "source": [
    "set_a"
   ]
  },
  {
   "cell_type": "code",
   "execution_count": 228,
   "id": "8905b3b5",
   "metadata": {},
   "outputs": [],
   "source": [
    "dict1={\n",
    "    \"Name\":\"Radha\",\n",
    "    \"Car\":\"Hyuandai Elentara\",\n",
    "    \"Year\":2023\n",
    "}"
   ]
  },
  {
   "cell_type": "code",
   "execution_count": 236,
   "id": "44fa3a32",
   "metadata": {},
   "outputs": [
    {
     "data": {
      "text/plain": [
       "'Radha'"
      ]
     },
     "execution_count": 236,
     "metadata": {},
     "output_type": "execute_result"
    }
   ],
   "source": [
    "# orderable\n",
    "dict1[\"Name\"]"
   ]
  },
  {
   "cell_type": "code",
   "execution_count": 232,
   "id": "df37ff97",
   "metadata": {},
   "outputs": [],
   "source": [
    "dict1[\"Year\"]=2024"
   ]
  },
  {
   "cell_type": "code",
   "execution_count": 234,
   "id": "ec66a9b1",
   "metadata": {},
   "outputs": [
    {
     "data": {
      "text/plain": [
       "{'Name': 'Radha', 'Car': 'Hyuandai Elentara', 'Year': 2024}"
      ]
     },
     "execution_count": 234,
     "metadata": {},
     "output_type": "execute_result"
    }
   ],
   "source": [
    "# Changeable\n",
    "dict1"
   ]
  },
  {
   "cell_type": "code",
   "execution_count": 239,
   "id": "51fd8731",
   "metadata": {},
   "outputs": [],
   "source": [
    "dict1.clear()"
   ]
  },
  {
   "cell_type": "code",
   "execution_count": 240,
   "id": "9eba9cd2",
   "metadata": {},
   "outputs": [
    {
     "data": {
      "text/plain": [
       "{}"
      ]
     },
     "execution_count": 240,
     "metadata": {},
     "output_type": "execute_result"
    }
   ],
   "source": [
    "dict1"
   ]
  },
  {
   "cell_type": "code",
   "execution_count": 241,
   "id": "3b24464f",
   "metadata": {},
   "outputs": [],
   "source": [
    "dict2={\n",
    "    \"Name\":\"Radha\",\n",
    "    \"Car\":\"Hyuandai Elentara\",\n",
    "    \"Year\":2023\n",
    "}"
   ]
  },
  {
   "cell_type": "code",
   "execution_count": 245,
   "id": "9dddf215",
   "metadata": {},
   "outputs": [
    {
     "data": {
      "text/plain": [
       "2023"
      ]
     },
     "execution_count": 245,
     "metadata": {},
     "output_type": "execute_result"
    }
   ],
   "source": [
    "dict2.get(\"Year\")"
   ]
  },
  {
   "cell_type": "code",
   "execution_count": 246,
   "id": "1e0915dd",
   "metadata": {},
   "outputs": [
    {
     "data": {
      "text/plain": [
       "dict_items([('Name', 'Radha'), ('Car', 'Hyuandai Elentara'), ('Year', 2023)])"
      ]
     },
     "execution_count": 246,
     "metadata": {},
     "output_type": "execute_result"
    }
   ],
   "source": [
    "dict2.items()"
   ]
  },
  {
   "cell_type": "code",
   "execution_count": 247,
   "id": "20bfd904",
   "metadata": {},
   "outputs": [
    {
     "data": {
      "text/plain": [
       "dict_keys(['Name', 'Car', 'Year'])"
      ]
     },
     "execution_count": 247,
     "metadata": {},
     "output_type": "execute_result"
    }
   ],
   "source": [
    "dict2.keys()"
   ]
  },
  {
   "cell_type": "code",
   "execution_count": 248,
   "id": "6e030519",
   "metadata": {},
   "outputs": [
    {
     "data": {
      "text/plain": [
       "'Radha'"
      ]
     },
     "execution_count": 248,
     "metadata": {},
     "output_type": "execute_result"
    }
   ],
   "source": [
    "dict2.pop(\"Name\")"
   ]
  },
  {
   "cell_type": "code",
   "execution_count": 249,
   "id": "73007ef3",
   "metadata": {},
   "outputs": [
    {
     "data": {
      "text/plain": [
       "{'Car': 'Hyuandai Elentara', 'Year': 2023}"
      ]
     },
     "execution_count": 249,
     "metadata": {},
     "output_type": "execute_result"
    }
   ],
   "source": [
    "dict2"
   ]
  },
  {
   "cell_type": "code",
   "execution_count": 250,
   "id": "9eaad739",
   "metadata": {},
   "outputs": [
    {
     "data": {
      "text/plain": [
       "dict_values(['Hyuandai Elentara', 2023])"
      ]
     },
     "execution_count": 250,
     "metadata": {},
     "output_type": "execute_result"
    }
   ],
   "source": [
    "dict2.values()"
   ]
  },
  {
   "cell_type": "code",
   "execution_count": 253,
   "id": "970d9703",
   "metadata": {},
   "outputs": [],
   "source": [
    "dict3={\n",
    "    \"Name\":\"Radha\",\n",
    "    \"Post\":\"Data Scientist\"\n",
    "}"
   ]
  },
  {
   "cell_type": "code",
   "execution_count": 255,
   "id": "fc24f4eb",
   "metadata": {},
   "outputs": [],
   "source": [
    "dict2.update(dict3)"
   ]
  },
  {
   "cell_type": "code",
   "execution_count": 256,
   "id": "8a316f2f",
   "metadata": {},
   "outputs": [
    {
     "data": {
      "text/plain": [
       "{'Car': 'Hyuandai Elentara',\n",
       " 'Year': 2023,\n",
       " 'Name': 'Radha',\n",
       " 'Post': 'Data Scientist'}"
      ]
     },
     "execution_count": 256,
     "metadata": {},
     "output_type": "execute_result"
    }
   ],
   "source": [
    "dict2"
   ]
  },
  {
   "cell_type": "code",
   "execution_count": 268,
   "id": "2b4d0804",
   "metadata": {},
   "outputs": [],
   "source": [
    "dict_n={\n",
    "    \"list\":[1,2,3,4],\n",
    "    \"tup\":(1,2,3,4),\n",
    "    \"set\":{1,2,3},\n",
    "    \"dict\":{\"Name\":\"Radha\",\"Age\":19}\n",
    "}"
   ]
  },
  {
   "cell_type": "code",
   "execution_count": 269,
   "id": "f96870a1",
   "metadata": {},
   "outputs": [
    {
     "data": {
      "text/plain": [
       "{'list': [1, 2, 3, 4],\n",
       " 'tup': (1, 2, 3, 4),\n",
       " 'set': {1, 2, 3},\n",
       " 'dict': {'Name': 'Radha', 'Age': 19}}"
      ]
     },
     "execution_count": 269,
     "metadata": {},
     "output_type": "execute_result"
    }
   ],
   "source": [
    "dict_n"
   ]
  },
  {
   "cell_type": "code",
   "execution_count": 270,
   "id": "c5bd6a27",
   "metadata": {},
   "outputs": [],
   "source": [
    "# loops"
   ]
  },
  {
   "cell_type": "code",
   "execution_count": 271,
   "id": "c61f77e1",
   "metadata": {},
   "outputs": [
    {
     "name": "stdout",
     "output_type": "stream",
     "text": [
      "0\n",
      "1\n",
      "2\n",
      "3\n",
      "4\n",
      "5\n",
      "6\n",
      "7\n",
      "8\n",
      "9\n"
     ]
    }
   ],
   "source": [
    "i=0\n",
    "while i<10:\n",
    "    print(i)\n",
    "    i+=1"
   ]
  },
  {
   "cell_type": "code",
   "execution_count": 272,
   "id": "ac307885",
   "metadata": {},
   "outputs": [
    {
     "name": "stdout",
     "output_type": "stream",
     "text": [
      "0\n",
      "1\n",
      "2\n",
      "3\n",
      "4\n",
      "5\n",
      "6\n",
      "7\n",
      "8\n",
      "9\n"
     ]
    }
   ],
   "source": [
    "for i in range(10):\n",
    "    print(i)\n",
    "    i+=1"
   ]
  },
  {
   "cell_type": "code",
   "execution_count": 277,
   "id": "cb7282b2",
   "metadata": {},
   "outputs": [
    {
     "name": "stdout",
     "output_type": "stream",
     "text": [
      "0\n",
      "1\n",
      "2\n",
      "3\n",
      "4\n"
     ]
    }
   ],
   "source": [
    "i=0\n",
    "while i<10:\n",
    "    print(i)\n",
    "    if i==4:\n",
    "        break\n",
    "    i+=1\n"
   ]
  },
  {
   "cell_type": "code",
   "execution_count": 289,
   "id": "c7c767c2",
   "metadata": {},
   "outputs": [
    {
     "name": "stdout",
     "output_type": "stream",
     "text": [
      "1\n",
      "2\n",
      "3\n",
      "4\n",
      "6\n",
      "7\n",
      "8\n",
      "9\n",
      "10\n"
     ]
    }
   ],
   "source": [
    "i=0\n",
    "while i<10:\n",
    "    i+=1\n",
    "    if i==5:\n",
    "        continue\n",
    "    print(i)"
   ]
  },
  {
   "cell_type": "code",
   "execution_count": 280,
   "id": "c105ae0c",
   "metadata": {},
   "outputs": [
    {
     "name": "stdout",
     "output_type": "stream",
     "text": [
      "1\n",
      "2\n",
      "4\n",
      "5\n",
      "6\n"
     ]
    }
   ],
   "source": [
    "i = 0\n",
    "while i < 6:\n",
    "  i += 1\n",
    "  if i == 3:\n",
    "    continue\n",
    "  print(i)"
   ]
  },
  {
   "cell_type": "code",
   "execution_count": 291,
   "id": "3108102f",
   "metadata": {},
   "outputs": [
    {
     "name": "stdout",
     "output_type": "stream",
     "text": [
      "1\n",
      "2\n",
      "3\n",
      "4\n",
      "5\n"
     ]
    }
   ],
   "source": [
    "i = 1\n",
    "while i < 6:\n",
    "    print(i)\n",
    "    i += 1"
   ]
  },
  {
   "cell_type": "code",
   "execution_count": 292,
   "id": "7e601087",
   "metadata": {},
   "outputs": [
    {
     "name": "stdout",
     "output_type": "stream",
     "text": [
      "2\n",
      "5\n",
      "8\n",
      "11\n",
      "14\n",
      "17\n",
      "20\n",
      "23\n",
      "26\n",
      "29\n"
     ]
    }
   ],
   "source": [
    "for i in range(2,30,3):\n",
    "    print(i)"
   ]
  },
  {
   "cell_type": "code",
   "execution_count": 293,
   "id": "7828bb6f",
   "metadata": {},
   "outputs": [],
   "source": [
    "# function"
   ]
  },
  {
   "cell_type": "code",
   "execution_count": 294,
   "id": "d56130eb",
   "metadata": {},
   "outputs": [],
   "source": [
    "def fun1():\n",
    "    print(\"Hello\")"
   ]
  },
  {
   "cell_type": "code",
   "execution_count": 295,
   "id": "a714e70c",
   "metadata": {},
   "outputs": [
    {
     "name": "stdout",
     "output_type": "stream",
     "text": [
      "Hello\n"
     ]
    }
   ],
   "source": [
    "fun1()"
   ]
  },
  {
   "cell_type": "code",
   "execution_count": 303,
   "id": "4913ad1f",
   "metadata": {},
   "outputs": [],
   "source": [
    "def fun2(a,b,c):\n",
    "    print(a,b,c)"
   ]
  },
  {
   "cell_type": "code",
   "execution_count": 305,
   "id": "461341fe",
   "metadata": {},
   "outputs": [
    {
     "name": "stdout",
     "output_type": "stream",
     "text": [
      "1 4 8\n"
     ]
    }
   ],
   "source": [
    "fun2(1,4,8)"
   ]
  },
  {
   "cell_type": "code",
   "execution_count": 310,
   "id": "d556b0c0",
   "metadata": {},
   "outputs": [],
   "source": [
    "def fun2(a,b,c=3):\n",
    "    print(a,b,c)"
   ]
  },
  {
   "cell_type": "code",
   "execution_count": 313,
   "id": "11ae5493",
   "metadata": {},
   "outputs": [
    {
     "name": "stdout",
     "output_type": "stream",
     "text": [
      "89 12 90\n"
     ]
    }
   ],
   "source": [
    "fun2(89,12,90)"
   ]
  },
  {
   "cell_type": "code",
   "execution_count": 316,
   "id": "5eb9ac4b",
   "metadata": {},
   "outputs": [
    {
     "name": "stdout",
     "output_type": "stream",
     "text": [
      "The youngest child is Linus\n"
     ]
    }
   ],
   "source": [
    "def my_function(*kds):\n",
    "  print(\"The youngest child is \" + kds[2])\n",
    "\n",
    "my_function(\"Emil\", \"Tobias\", \"Linus\")"
   ]
  },
  {
   "cell_type": "markdown",
   "id": "f9844a95",
   "metadata": {},
   "source": [
    "# lambda"
   ]
  },
  {
   "cell_type": "code",
   "execution_count": 317,
   "id": "5a3e8254",
   "metadata": {},
   "outputs": [
    {
     "data": {
      "text/plain": [
       "101"
      ]
     },
     "execution_count": 317,
     "metadata": {},
     "output_type": "execute_result"
    }
   ],
   "source": [
    "lm=lambda a,b:a+b\n",
    "lm(89,12)"
   ]
  },
  {
   "cell_type": "code",
   "execution_count": 319,
   "id": "55d4cce8",
   "metadata": {},
   "outputs": [
    {
     "name": "stdout",
     "output_type": "stream",
     "text": [
      "78\n"
     ]
    }
   ],
   "source": [
    "lm=lambda a,b: print(a) if a>b else print(b)\n",
    "lm(12,78)"
   ]
  },
  {
   "cell_type": "code",
   "execution_count": 326,
   "id": "e621aabf",
   "metadata": {},
   "outputs": [
    {
     "name": "stdout",
     "output_type": "stream",
     "text": [
      "91\n"
     ]
    }
   ],
   "source": [
    "lm=lambda a,b,c : print(a) if a>b and a>c  else ( print(b) if b>a and b>c else print(c))\n",
    "lm(91,15,19)"
   ]
  },
  {
   "cell_type": "markdown",
   "id": "ac9fd3b7",
   "metadata": {},
   "source": [
    "# regular expression"
   ]
  },
  {
   "cell_type": "code",
   "execution_count": 327,
   "id": "2708afe9",
   "metadata": {},
   "outputs": [],
   "source": [
    "import re\n"
   ]
  },
  {
   "cell_type": "code",
   "execution_count": 328,
   "id": "ca2cdaa2",
   "metadata": {},
   "outputs": [
    {
     "data": {
      "text/plain": [
       "'I xm x girl xnd i like coffee'"
      ]
     },
     "execution_count": 328,
     "metadata": {},
     "output_type": "execute_result"
    }
   ],
   "source": [
    "x=\"I am a girl and i like coffee\"\n",
    "re.sub(\"a\",\"x\",x)"
   ]
  },
  {
   "cell_type": "code",
   "execution_count": 329,
   "id": "735aadc5",
   "metadata": {},
   "outputs": [
    {
     "data": {
      "text/plain": [
       "['f', 'f']"
      ]
     },
     "execution_count": 329,
     "metadata": {},
     "output_type": "execute_result"
    }
   ],
   "source": [
    "re.findall(\"f\",x)"
   ]
  },
  {
   "cell_type": "code",
   "execution_count": 331,
   "id": "0818a90d",
   "metadata": {},
   "outputs": [
    {
     "data": {
      "text/plain": [
       "<re.Match object; span=(8, 9), match='i'>"
      ]
     },
     "execution_count": 331,
     "metadata": {},
     "output_type": "execute_result"
    }
   ],
   "source": [
    "re.search(\"i\",x)"
   ]
  },
  {
   "cell_type": "code",
   "execution_count": 332,
   "id": "f1275169",
   "metadata": {},
   "outputs": [
    {
     "data": {
      "text/plain": [
       "['I ', 'm ', ' girl ', 'nd i like coffee']"
      ]
     },
     "execution_count": 332,
     "metadata": {},
     "output_type": "execute_result"
    }
   ],
   "source": [
    "re.split(\"a\",x)"
   ]
  },
  {
   "cell_type": "code",
   "execution_count": 334,
   "id": "8ddf9798",
   "metadata": {},
   "outputs": [
    {
     "name": "stdout",
     "output_type": "stream",
     "text": [
      "<re.Match object; span=(25, 26), match='f'>\n",
      "<re.Match object; span=(26, 27), match='f'>\n"
     ]
    }
   ],
   "source": [
    "for a in re.finditer(\"f\",x):\n",
    "    print(a)"
   ]
  },
  {
   "cell_type": "markdown",
   "id": "fe908f53",
   "metadata": {},
   "source": [
    "# oops"
   ]
  },
  {
   "cell_type": "code",
   "execution_count": 335,
   "id": "f3feb089",
   "metadata": {},
   "outputs": [],
   "source": [
    "#wap to make a class of student having name & marks and make\n",
    "# an object to get the output.\n",
    "class std:\n",
    "    name=\"Ram\"\n",
    "    marks=98\n",
    "ob=std()"
   ]
  },
  {
   "cell_type": "code",
   "execution_count": 336,
   "id": "e8e46066",
   "metadata": {},
   "outputs": [
    {
     "data": {
      "text/plain": [
       "'Ram'"
      ]
     },
     "execution_count": 336,
     "metadata": {},
     "output_type": "execute_result"
    }
   ],
   "source": [
    "ob.name"
   ]
  },
  {
   "cell_type": "code",
   "execution_count": 337,
   "id": "0ff962ea",
   "metadata": {},
   "outputs": [
    {
     "data": {
      "text/plain": [
       "98"
      ]
     },
     "execution_count": 337,
     "metadata": {},
     "output_type": "execute_result"
    }
   ],
   "source": [
    "ob.marks"
   ]
  },
  {
   "cell_type": "code",
   "execution_count": 342,
   "id": "20cabf8e",
   "metadata": {},
   "outputs": [],
   "source": [
    "# class with the help of function\n",
    "class std1:\n",
    "    def fun1(self,name,age):\n",
    "        self.name=name\n",
    "        self.age=age\n",
    "obj=std1()"
   ]
  },
  {
   "cell_type": "code",
   "execution_count": 343,
   "id": "0805b04d",
   "metadata": {},
   "outputs": [],
   "source": [
    "obj.fun1(\"Raj\",67)"
   ]
  },
  {
   "cell_type": "code",
   "execution_count": 344,
   "id": "2cc748a3",
   "metadata": {},
   "outputs": [
    {
     "data": {
      "text/plain": [
       "'Raj'"
      ]
     },
     "execution_count": 344,
     "metadata": {},
     "output_type": "execute_result"
    }
   ],
   "source": [
    "obj.name"
   ]
  },
  {
   "cell_type": "code",
   "execution_count": 345,
   "id": "a625a959",
   "metadata": {},
   "outputs": [
    {
     "data": {
      "text/plain": [
       "67"
      ]
     },
     "execution_count": 345,
     "metadata": {},
     "output_type": "execute_result"
    }
   ],
   "source": [
    "obj.age"
   ]
  },
  {
   "cell_type": "code",
   "execution_count": 348,
   "id": "bc151408",
   "metadata": {},
   "outputs": [],
   "source": [
    "# class with the help of constuctor\n",
    "class std2:\n",
    "    def __init__(self,name,sal):\n",
    "        self.name=name\n",
    "        self.sal=sal\n",
    "obj2=std2(\"Amit\",2)"
   ]
  },
  {
   "cell_type": "code",
   "execution_count": 349,
   "id": "ffc91641",
   "metadata": {},
   "outputs": [
    {
     "data": {
      "text/plain": [
       "'Amit'"
      ]
     },
     "execution_count": 349,
     "metadata": {},
     "output_type": "execute_result"
    }
   ],
   "source": [
    "obj2.name"
   ]
  },
  {
   "cell_type": "code",
   "execution_count": 351,
   "id": "17f475d5",
   "metadata": {},
   "outputs": [
    {
     "data": {
      "text/plain": [
       "2"
      ]
     },
     "execution_count": 351,
     "metadata": {},
     "output_type": "execute_result"
    }
   ],
   "source": [
    "obj2.sal"
   ]
  },
  {
   "cell_type": "code",
   "execution_count": 361,
   "id": "30c8eb7e",
   "metadata": {},
   "outputs": [],
   "source": [
    "# wap to make a class of simplified airthmetic opeartion \n",
    "# and try to get the  output of that class through the object.\n",
    "class sao:\n",
    "    def fun(self,a,b):\n",
    "        self.add=a + b\n",
    "        self.sub=a - b\n",
    "        self.mul=a * b\n",
    "        self.div=a / b\n",
    "obk=sao()\n",
    "obk.fun(23,89)"
   ]
  },
  {
   "cell_type": "code",
   "execution_count": 363,
   "id": "7be1b600",
   "metadata": {},
   "outputs": [
    {
     "data": {
      "text/plain": [
       "112"
      ]
     },
     "execution_count": 363,
     "metadata": {},
     "output_type": "execute_result"
    }
   ],
   "source": [
    "obk.add"
   ]
  },
  {
   "cell_type": "code",
   "execution_count": 364,
   "id": "d38ba456",
   "metadata": {},
   "outputs": [
    {
     "data": {
      "text/plain": [
       "0.25842696629213485"
      ]
     },
     "execution_count": 364,
     "metadata": {},
     "output_type": "execute_result"
    }
   ],
   "source": [
    "obk.div"
   ]
  },
  {
   "cell_type": "code",
   "execution_count": 374,
   "id": "cc372af1",
   "metadata": {},
   "outputs": [
    {
     "name": "stdout",
     "output_type": "stream",
     "text": [
      "The actual price of car is:  461.0\n"
     ]
    }
   ],
   "source": [
    "# Wap to make a class of car and find its actual price,if the \n",
    "# car is of more than 10lakh then there is a tax of 14% on \n",
    "# the car and if the cost of car is less tha 10lakhs then\n",
    "# there is some discount of 7.8% on the car . Find the actual\n",
    "# price of the paid by the user.\n",
    "\n",
    "class car:\n",
    "    def __init__(self,price):\n",
    "        self.price=price\n",
    "        if self.price>1000000:\n",
    "            self.price=self.price+(self.price*14)/100\n",
    "            print(\"The actual price of car is: \",self.price)\n",
    "        else:\n",
    "            self.price=self.price-(self.price*7.8)/100\n",
    "            print(\"The actual price of car is: \",self.price)\n",
    "ok=car(500)"
   ]
  },
  {
   "cell_type": "code",
   "execution_count": 375,
   "id": "b0d95589",
   "metadata": {},
   "outputs": [
    {
     "data": {
      "text/plain": [
       "461.0"
      ]
     },
     "execution_count": 375,
     "metadata": {},
     "output_type": "execute_result"
    }
   ],
   "source": [
    "ok.price"
   ]
  },
  {
   "cell_type": "markdown",
   "id": "b830af34",
   "metadata": {},
   "source": [
    "# inheritance"
   ]
  },
  {
   "cell_type": "code",
   "execution_count": 380,
   "id": "e022505c",
   "metadata": {},
   "outputs": [
    {
     "data": {
      "text/plain": [
       "89"
      ]
     },
     "execution_count": 380,
     "metadata": {},
     "output_type": "execute_result"
    }
   ],
   "source": [
    "class one:\n",
    "    def __init__(self,name,age):\n",
    "        self.name=name\n",
    "        self.age=age\n",
    "class two(one):\n",
    "    def __init__(self,name,age,sal):\n",
    "        self.sal=sal\n",
    "        one.__init__(self,name,age)\n",
    "ob=two(\"Raghav\",89,5)\n",
    "ob.age"
   ]
  },
  {
   "cell_type": "code",
   "execution_count": 383,
   "id": "a26af715",
   "metadata": {},
   "outputs": [
    {
     "data": {
      "text/plain": [
       "89"
      ]
     },
     "execution_count": 383,
     "metadata": {},
     "output_type": "execute_result"
    }
   ],
   "source": [
    "class fun1:\n",
    "    def __init__(self,name,age):\n",
    "        self.name=name\n",
    "        self.age=age\n",
    "class fun2(fun1):\n",
    "    def __init__(self,name,age,sal):\n",
    "        self.sal=sal\n",
    "        super().__init__(name,age)\n",
    "ob=fun2(\"Raghav\",89,5)\n",
    "ob.age"
   ]
  },
  {
   "cell_type": "markdown",
   "id": "52b21ddf",
   "metadata": {},
   "source": [
    "# multilevel inheritance"
   ]
  },
  {
   "cell_type": "code",
   "execution_count": 401,
   "id": "1bfb8dc3",
   "metadata": {},
   "outputs": [],
   "source": [
    "class gpc:\n",
    "    def __init__(self,name):\n",
    "        self.name=name\n",
    "class pc(gpc):\n",
    "    def __init__(self,name,age):\n",
    "        self.age=age\n",
    "        gpc.__init__(self,name)\n",
    "class cc(pc):\n",
    "    def __init__(self,name,age,sal):\n",
    "        self.sal=sal\n",
    "        pc.__init__(self,name,age)\n",
    "    "
   ]
  },
  {
   "cell_type": "code",
   "execution_count": 404,
   "id": "7e8774d7",
   "metadata": {},
   "outputs": [],
   "source": [
    "ob=cc(\"RAM\",67,9)"
   ]
  },
  {
   "cell_type": "code",
   "execution_count": 408,
   "id": "89711e5c",
   "metadata": {},
   "outputs": [
    {
     "data": {
      "text/plain": [
       "'RAM'"
      ]
     },
     "execution_count": 408,
     "metadata": {},
     "output_type": "execute_result"
    }
   ],
   "source": [
    "ob.name"
   ]
  },
  {
   "cell_type": "code",
   "execution_count": 435,
   "id": "5918c60e",
   "metadata": {},
   "outputs": [],
   "source": [
    "# Wap to make a 3 class in which one of the class\n",
    "# is totally empty and also try to inherit the attributes\n",
    "# of each class.\n",
    "\n",
    "class gpc:\n",
    "    pass\n",
    "class pc(gpc):\n",
    "    def __init__(self,age):\n",
    "        self.age=age\n",
    "        super().__init__()\n",
    "class cc(pc):\n",
    "    def __init__(self,age,sal):\n",
    "        self.sal=sal\n",
    "        super().__init__(age)\n",
    "    "
   ]
  },
  {
   "cell_type": "code",
   "execution_count": 436,
   "id": "25d90930",
   "metadata": {},
   "outputs": [],
   "source": [
    "ok=cc(89,7)"
   ]
  },
  {
   "cell_type": "code",
   "execution_count": 437,
   "id": "3fbaddf1",
   "metadata": {},
   "outputs": [
    {
     "data": {
      "text/plain": [
       "89"
      ]
     },
     "execution_count": 437,
     "metadata": {},
     "output_type": "execute_result"
    }
   ],
   "source": [
    "ok.age"
   ]
  },
  {
   "cell_type": "code",
   "execution_count": 438,
   "id": "992065ee",
   "metadata": {},
   "outputs": [
    {
     "data": {
      "text/plain": [
       "7"
      ]
     },
     "execution_count": 438,
     "metadata": {},
     "output_type": "execute_result"
    }
   ],
   "source": [
    "ok.sal"
   ]
  },
  {
   "cell_type": "markdown",
   "id": "01e31400",
   "metadata": {},
   "source": [
    "# encapsulation----------user se access hide karana"
   ]
  },
  {
   "cell_type": "code",
   "execution_count": 455,
   "id": "006452e7",
   "metadata": {},
   "outputs": [],
   "source": [
    "# private ------------user can access data with in the class\n",
    "class pc:\n",
    "    def __init__(self,_age):\n",
    "        self._age=_age\n",
    "ob=pc(12)"
   ]
  },
  {
   "cell_type": "code",
   "execution_count": 456,
   "id": "ed07d964",
   "metadata": {},
   "outputs": [
    {
     "data": {
      "text/plain": [
       "12"
      ]
     },
     "execution_count": 456,
     "metadata": {},
     "output_type": "execute_result"
    }
   ],
   "source": [
    "ob._age"
   ]
  },
  {
   "cell_type": "code",
   "execution_count": 471,
   "id": "20ed0ac5",
   "metadata": {},
   "outputs": [],
   "source": [
    "# protected ------------user can not access data \n",
    "class pc:\n",
    "    def __init__(self,sal):\n",
    "        self.__sal=sal\n",
    "ob=pc(12)"
   ]
  },
  {
   "cell_type": "code",
   "execution_count": 472,
   "id": "694ec591",
   "metadata": {},
   "outputs": [
    {
     "ename": "AttributeError",
     "evalue": "'pc' object has no attribute '__sal'",
     "output_type": "error",
     "traceback": [
      "\u001b[1;31m---------------------------------------------------------------------------\u001b[0m",
      "\u001b[1;31mAttributeError\u001b[0m                            Traceback (most recent call last)",
      "Input \u001b[1;32mIn [472]\u001b[0m, in \u001b[0;36m<cell line: 1>\u001b[1;34m()\u001b[0m\n\u001b[1;32m----> 1\u001b[0m \u001b[43mob\u001b[49m\u001b[38;5;241;43m.\u001b[39;49m\u001b[43m__sal\u001b[49m\n",
      "\u001b[1;31mAttributeError\u001b[0m: 'pc' object has no attribute '__sal'"
     ]
    }
   ],
   "source": [
    "ob.__sal"
   ]
  },
  {
   "cell_type": "code",
   "execution_count": 479,
   "id": "7a72655d",
   "metadata": {},
   "outputs": [
    {
     "ename": "AttributeError",
     "evalue": "'std' object has no attribute '__info'",
     "output_type": "error",
     "traceback": [
      "\u001b[1;31m---------------------------------------------------------------------------\u001b[0m",
      "\u001b[1;31mAttributeError\u001b[0m                            Traceback (most recent call last)",
      "Input \u001b[1;32mIn [479]\u001b[0m, in \u001b[0;36m<cell line: 12>\u001b[1;34m()\u001b[0m\n\u001b[0;32m     10\u001b[0m s \u001b[38;5;241m=\u001b[39m std()\n\u001b[0;32m     11\u001b[0m \u001b[38;5;66;03m# s.detail('hello')\u001b[39;00m\n\u001b[1;32m---> 12\u001b[0m \u001b[43ms\u001b[49m\u001b[38;5;241;43m.\u001b[39;49m\u001b[43m__info\u001b[49m(\u001b[38;5;124m'\u001b[39m\u001b[38;5;124ma\u001b[39m\u001b[38;5;124m'\u001b[39m,\u001b[38;5;241m34\u001b[39m)\n",
      "\u001b[1;31mAttributeError\u001b[0m: 'std' object has no attribute '__info'"
     ]
    }
   ],
   "source": [
    "class std:\n",
    "    def __info(self,name,age):\n",
    "        return name,age\n",
    "    \n",
    "    def detail(self,greet):\n",
    "        return greet\n",
    "    \n",
    "    \n",
    "\n",
    "s = std()\n",
    "# s.detail('hello')\n",
    "s.__info('a',34)"
   ]
  },
  {
   "cell_type": "code",
   "execution_count": 496,
   "id": "98a86582",
   "metadata": {},
   "outputs": [
    {
     "data": {
      "text/plain": [
       "<re.Match object; span=(26, 27), match='f'>"
      ]
     },
     "execution_count": 496,
     "metadata": {},
     "output_type": "execute_result"
    }
   ],
   "source": [
    "#wap to perform encapsulation where you have to find the \n",
    "# marks of 2student if any one of the student is going to \n",
    "# fail in any subject then you have hide the data of the \n",
    "# subject.\n",
    "class s1:\n",
    "    def __init__(self,__a,b):\n",
    "        self.a= a\n",
    "        self.b=b\n",
    "    \n",
    "    \n",
    "class s2(s1):\n",
    "    def __init__(self,a,b):\n",
    "        super().__init__(a,b)\n",
    "        \n",
    "        \n",
    "s = s2(23,45)\n",
    "s.a"
   ]
  },
  {
   "cell_type": "code",
   "execution_count": 500,
   "id": "614cad2f",
   "metadata": {},
   "outputs": [
    {
     "data": {
      "text/plain": [
       "'hello'"
      ]
     },
     "execution_count": 500,
     "metadata": {},
     "output_type": "execute_result"
    }
   ],
   "source": [
    "# public , private , protected\n",
    "class a:\n",
    "    \n",
    "#     public mode\n",
    "    def x(self,greet):\n",
    "        return greet\n",
    "    \n",
    "#     private mode\n",
    "    def __y(self,name):\n",
    "        return name\n",
    "    \n",
    "#     protected mode\n",
    "    def _z(self,age):\n",
    "        return age\n",
    "    \n",
    "c = a()\n",
    "c.x('hello')"
   ]
  },
  {
   "cell_type": "code",
   "execution_count": 505,
   "id": "8431bdb2",
   "metadata": {},
   "outputs": [
    {
     "ename": "AttributeError",
     "evalue": "'a' object has no attribute 'y'",
     "output_type": "error",
     "traceback": [
      "\u001b[1;31m---------------------------------------------------------------------------\u001b[0m",
      "\u001b[1;31mAttributeError\u001b[0m                            Traceback (most recent call last)",
      "Input \u001b[1;32mIn [505]\u001b[0m, in \u001b[0;36m<cell line: 2>\u001b[1;34m()\u001b[0m\n\u001b[0;32m      1\u001b[0m \u001b[38;5;66;03m# protected\u001b[39;00m\n\u001b[1;32m----> 2\u001b[0m \u001b[43mc\u001b[49m\u001b[38;5;241;43m.\u001b[39;49m\u001b[43my\u001b[49m(\u001b[38;5;124m\"\u001b[39m\u001b[38;5;124mRam\u001b[39m\u001b[38;5;124m\"\u001b[39m)\n",
      "\u001b[1;31mAttributeError\u001b[0m: 'a' object has no attribute 'y'"
     ]
    }
   ],
   "source": [
    "# protected\n",
    "c.y(\"Ram\")"
   ]
  },
  {
   "cell_type": "code",
   "execution_count": 504,
   "id": "03bff613",
   "metadata": {},
   "outputs": [
    {
     "data": {
      "text/plain": [
       "12"
      ]
     },
     "execution_count": 504,
     "metadata": {},
     "output_type": "execute_result"
    }
   ],
   "source": [
    "c._z(12)"
   ]
  },
  {
   "cell_type": "markdown",
   "id": "ebd884c1",
   "metadata": {},
   "source": [
    "# polymorphism"
   ]
  },
  {
   "cell_type": "code",
   "execution_count": 506,
   "id": "f959cfd9",
   "metadata": {},
   "outputs": [
    {
     "name": "stdout",
     "output_type": "stream",
     "text": [
      "10\n"
     ]
    }
   ],
   "source": [
    "a = 9\n",
    "b = 1\n",
    "c = a+b\n",
    "print(c)"
   ]
  },
  {
   "cell_type": "code",
   "execution_count": 507,
   "id": "1393679c",
   "metadata": {},
   "outputs": [
    {
     "name": "stdout",
     "output_type": "stream",
     "text": [
      "45\n"
     ]
    }
   ],
   "source": [
    "a = '4'\n",
    "b ='5'\n",
    "c = a+b\n",
    "print(c)"
   ]
  },
  {
   "cell_type": "code",
   "execution_count": 508,
   "id": "e8b38186",
   "metadata": {},
   "outputs": [
    {
     "data": {
      "text/plain": [
       "10"
      ]
     },
     "execution_count": 508,
     "metadata": {},
     "output_type": "execute_result"
    }
   ],
   "source": [
    "# default arg\n",
    "\n",
    "def fun(x,y=9):\n",
    "    z = x+y\n",
    "    return z\n",
    "\n",
    "fun(1)"
   ]
  },
  {
   "cell_type": "code",
   "execution_count": 509,
   "id": "c32a2deb",
   "metadata": {},
   "outputs": [
    {
     "data": {
      "text/plain": [
       "3"
      ]
     },
     "execution_count": 509,
     "metadata": {},
     "output_type": "execute_result"
    }
   ],
   "source": [
    "fun(1,2)"
   ]
  },
  {
   "cell_type": "code",
   "execution_count": 510,
   "id": "01815706",
   "metadata": {},
   "outputs": [
    {
     "data": {
      "text/plain": [
       "1"
      ]
     },
     "execution_count": 510,
     "metadata": {},
     "output_type": "execute_result"
    }
   ],
   "source": [
    "fun(1,0)"
   ]
  },
  {
   "cell_type": "code",
   "execution_count": 511,
   "id": "8d976dfd",
   "metadata": {},
   "outputs": [
    {
     "data": {
      "text/plain": [
       "-2"
      ]
     },
     "execution_count": 511,
     "metadata": {},
     "output_type": "execute_result"
    }
   ],
   "source": [
    "fun(-1,-1)"
   ]
  },
  {
   "cell_type": "code",
   "execution_count": null,
   "id": "ced91bea",
   "metadata": {},
   "outputs": [],
   "source": []
  }
 ],
 "metadata": {
  "kernelspec": {
   "display_name": "Python 3 (ipykernel)",
   "language": "python",
   "name": "python3"
  },
  "language_info": {
   "codemirror_mode": {
    "name": "ipython",
    "version": 3
   },
   "file_extension": ".py",
   "mimetype": "text/x-python",
   "name": "python",
   "nbconvert_exporter": "python",
   "pygments_lexer": "ipython3",
   "version": "3.9.12"
  }
 },
 "nbformat": 4,
 "nbformat_minor": 5
}
